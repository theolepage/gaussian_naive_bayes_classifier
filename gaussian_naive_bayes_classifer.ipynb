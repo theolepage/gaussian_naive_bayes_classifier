{
  "nbformat": 4,
  "nbformat_minor": 0,
  "metadata": {
    "colab": {
      "name": "gaussian-naive-bayes-classifer.ipynb",
      "provenance": [],
      "collapsed_sections": [],
      "authorship_tag": "ABX9TyNaWFB+HKH9ZpvewKkS4bm4"
    },
    "kernelspec": {
      "name": "python3",
      "display_name": "Python 3"
    }
  },
  "cells": [
    {
      "cell_type": "markdown",
      "metadata": {
        "id": "2B288eXYIk4r"
      },
      "source": [
        "# Gaussian Naive Bayes classifier\r\n",
        "\r\n",
        "## To-Do\r\n",
        "\r\n",
        "- [ ] Add mathematical explanations\r\n",
        "- [ ] Compute prior probability\r\n",
        "\r\n",
        "## Resources\r\n",
        "\r\n",
        "- https://en.wikipedia.org/wiki/Naive_Bayes_classifier\r\n",
        "- https://docs.scipy.org/doc/scipy/reference/generated/scipy.stats.multivariate_normal.html"
      ]
    },
    {
      "cell_type": "code",
      "metadata": {
        "id": "aUI8buibBhYd"
      },
      "source": [
        "import numpy as np\n",
        "from scipy.stats import multivariate_normal"
      ],
      "execution_count": null,
      "outputs": []
    },
    {
      "cell_type": "code",
      "metadata": {
        "id": "OpSxgrUjGqQ1"
      },
      "source": [
        "class GaussianNaiveBayesClassifier:\r\n",
        "    def __init__(self, nb_classes, nb_dim, cov_type='identity'):\r\n",
        "        self.nb_classes = nb_classes\r\n",
        "        self.nb_dim = nb_dim\r\n",
        "        self.cov_type = cov_type\r\n",
        "\r\n",
        "    def train(self, X, y):\r\n",
        "        self.mu = np.zeros((self.nb_classes, self.nb_dim))\r\n",
        "        self.sigma = np.zeros((self.nb_classes, self.nb_dim, self.nb_dim))\r\n",
        "\r\n",
        "        # Create cov matrix which is shared across all classes\r\n",
        "        if self.cov_type == 'rand':\r\n",
        "            tmp = np.random.rand(self.nb_dim, self.nb_dim)\r\n",
        "            cov = tmp.T @ tmp\r\n",
        "            self.sigma = cov\r\n",
        "\r\n",
        "        # Estimate mean for each class\r\n",
        "        for c in range(self.nb_classes):\r\n",
        "            X_class = X[y == c]\r\n",
        "            self.mu[c] = np.mean(X_class, axis=0)\r\n",
        "\r\n",
        "            if self.cov_type == 'identity':\r\n",
        "                self.sigma[c] = np.identity(self.nb_dim)\r\n",
        "            elif self.cov_type == 'unique':\r\n",
        "                self.sigma[c] = np.cov(X_class, rowvar=False) # singular matrix\r\n",
        "\r\n",
        "    def predict(self, X, verbose=False):\r\n",
        "        res = np.zeros(len(X), dtype=np.uint8)\r\n",
        "\r\n",
        "        for i in range(len(X)):\r\n",
        "            probs = np.empty(self.nb_classes)\r\n",
        "            for c in range(self.nb_classes):\r\n",
        "                # Multiplying by prior probability is useless as all\r\n",
        "                # classes are equally probable in our case (MNIST).\r\n",
        "                probs[c] = multivariate_normal.logpdf(X[i],\r\n",
        "                                                      self.mu[c],\r\n",
        "                                                      self.sigma[c])\r\n",
        "            res[i] = np.argmax(probs)\r\n",
        "\r\n",
        "            if verbose:\r\n",
        "                print('Predictions {}/{}'.format(i, len(X)))\r\n",
        "\r\n",
        "        return res"
      ],
      "execution_count": null,
      "outputs": []
    },
    {
      "cell_type": "markdown",
      "metadata": {
        "id": "s4dWh3bcIe_g"
      },
      "source": [
        "## Import MNIST dataset"
      ]
    },
    {
      "cell_type": "code",
      "metadata": {
        "id": "Wp5kW40fBPJA",
        "colab": {
          "base_uri": "https://localhost:8080/"
        },
        "outputId": "f490fa5f-99d9-44da-d1d9-782ce138621a"
      },
      "source": [
        "import tensorflow as tf\n",
        "import matplotlib.pyplot as plt\n",
        "\n",
        "(X_train, y_train), (X_test, y_test) = tf.keras.datasets.mnist.load_data()\n",
        "\n",
        "# Flatten\n",
        "X_train = X_train.reshape((len(X_train), -1))\n",
        "X_test = X_test.reshape((len(X_test), -1))\n",
        "\n",
        "print(X_train.shape, y_train.shape)\n",
        "print(X_test.shape, y_test.shape)"
      ],
      "execution_count": null,
      "outputs": [
        {
          "output_type": "stream",
          "text": [
            "(60000, 784) (60000,)\n",
            "(10000, 784) (10000,)\n"
          ],
          "name": "stdout"
        }
      ]
    },
    {
      "cell_type": "markdown",
      "metadata": {
        "id": "2Qed428rIaVE"
      },
      "source": [
        "## Train models"
      ]
    },
    {
      "cell_type": "code",
      "metadata": {
        "id": "zSeZlLPlCkdw",
        "colab": {
          "base_uri": "https://localhost:8080/"
        },
        "outputId": "e1247884-39f8-4e81-e096-61f8c68e0e37"
      },
      "source": [
        "# Cov matrix will be the identity matrix for all classes\n",
        "classifier_identity = GaussianNaiveBayesClassifier(10, 784)\n",
        "classifier_identity.train(X_train, y_train)\n",
        "\n",
        "# Cov matrix will be a random matrix for all classes\n",
        "classifier_rand = GaussianNaiveBayesClassifier(10, 784, 'rand')\n",
        "classifier_rand.train(X_train, y_train)\n",
        "\n",
        "print(\"Training of both models completed!\")"
      ],
      "execution_count": null,
      "outputs": [
        {
          "output_type": "stream",
          "text": [
            "Training of both models completed!\n"
          ],
          "name": "stdout"
        }
      ]
    },
    {
      "cell_type": "markdown",
      "metadata": {
        "id": "QO8dTrFxIVIE"
      },
      "source": [
        "## Evaluate models"
      ]
    },
    {
      "cell_type": "code",
      "metadata": {
        "id": "arWAGX9FGeRY"
      },
      "source": [
        "# Evaluate on a sub set of X_test\n",
        "nb_test_samples = 100\n",
        "X_test_sub = X_test[:nb_test_samples]\n",
        "y_test_sub = y_test[:nb_test_samples]\n",
        "\n",
        "res_identity = classifier_identity.predict(X_test_sub, verbose=False)\n",
        "print(res_identity)\n",
        "\n",
        "res_rand = classifier_rand.predict(X_test_sub, verbose=False)\n",
        "print(res_rand)"
      ],
      "execution_count": null,
      "outputs": []
    },
    {
      "cell_type": "code",
      "metadata": {
        "colab": {
          "base_uri": "https://localhost:8080/"
        },
        "id": "RBZVWkH_N_B6",
        "outputId": "b0c65bb4-118e-4b63-88bc-459a315c74d9"
      },
      "source": [
        "# Compute accuracies\r\n",
        "accuracy_identity = np.sum(res_identity == y_test_sub) / nb_test_samples\r\n",
        "print(\"Accuracy (identity): {}\".format(accuracy_identity))\r\n",
        "\r\n",
        "accuracy_random = np.sum(res_rand == y_test_sub) / nb_test_samples\r\n",
        "print(\"Accuracy (rand): {}\".format(accuracy_random))"
      ],
      "execution_count": null,
      "outputs": [
        {
          "output_type": "stream",
          "text": [
            "Accuracy (identity): 0.8\n",
            "Accuracy (rand): 0.81\n"
          ],
          "name": "stdout"
        }
      ]
    },
    {
      "cell_type": "code",
      "metadata": {
        "colab": {
          "base_uri": "https://localhost:8080/",
          "height": 250
        },
        "id": "emHGj9sTNL2P",
        "outputId": "bfe37839-0673-4d52-9101-d30109260c5e"
      },
      "source": [
        "# Test on a random image with 'identity' model\r\n",
        "test_image_index = 17\r\n",
        "test_image_image = X_test_sub[test_image_index]\r\n",
        "test_image_expected = y_test_sub[test_image_index]\r\n",
        "test_image_prediction = res_identity[test_image_index]\r\n",
        "\r\n",
        "print(\"Image {} : expected {}, predicted {}\".format(test_image_index,\r\n",
        "                                                    test_image_expected,\r\n",
        "                                                    test_image_prediction))\r\n",
        "\r\n",
        "plt.figure(figsize = (3, 3))\r\n",
        "plt.imshow(test_image_image.reshape((28, 28)), interpolation='nearest')"
      ],
      "execution_count": null,
      "outputs": [
        {
          "output_type": "stream",
          "text": [
            "Image 17 : expected 7, predicted 7\n"
          ],
          "name": "stdout"
        },
        {
          "output_type": "execute_result",
          "data": {
            "text/plain": [
              "<matplotlib.image.AxesImage at 0x7f021189b438>"
            ]
          },
          "metadata": {
            "tags": []
          },
          "execution_count": 211
        },
        {
          "output_type": "display_data",
          "data": {
            "image/png": "[encoded data removed]",
            "text/plain": [
              "<Figure size 216x216 with 1 Axes>"
            ]
          },
          "metadata": {
            "tags": [],
            "needs_background": "light"
          }
        }
      ]
    }
  ]
}
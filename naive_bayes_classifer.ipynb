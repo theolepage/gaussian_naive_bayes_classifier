{
  "nbformat": 4,
  "nbformat_minor": 0,
  "metadata": {
    "colab": {
      "name": "naive-bayes-classifer.ipynb",
      "provenance": [],
      "collapsed_sections": []
    },
    "kernelspec": {
      "name": "python3",
      "display_name": "Python 3"
    }
  },
  "cells": [
    {
      "cell_type": "code",
      "metadata": {
        "id": "aUI8buibBhYd",
        "colab_type": "code",
        "colab": {}
      },
      "source": [
        "import numpy as np\n",
        "import math\n",
        "import scipy as sp\n",
        "import scipy.stats\n",
        "\n",
        "class NaiveBayesClassifier:\n",
        "\n",
        "    # Number of class of the dataset\n",
        "    nb_class = 0\n",
        "\n",
        "    # Number of features of the dataset\n",
        "    nb_dim = 0\n",
        "\n",
        "    def __init__(self, nb_class, nb_dim):\n",
        "        self.nb_class = nb_class\n",
        "        self.nb_dim = nb_dim\n",
        "\n",
        "        self.mu = np.zeros((nb_class, nb_dim))\n",
        "        self.sigma = np.zeros((nb_class, nb_dim, nb_dim))\n",
        "        self.prior = np.zeros(nb_class)\n",
        "\n",
        "    def train(self, data, label):\n",
        "        # Compute mu and sigma for each dimension\n",
        "        for c in range(self.nb_class):\n",
        "            for d in range(self.nb_dim):\n",
        "                new_list = []\n",
        "                count = 0\n",
        "                for l in range(len(label)):\n",
        "                    if label[l] == c:\n",
        "                        self.mu[c][d] += data[l][d]\n",
        "                        count += 1\n",
        "                        new_list.append(data[l][d])\n",
        "                self.mu[c][d] /= count\n",
        "                self.sigma[c][d][d] = 1 #np.var(np.array(new_list))\n",
        "\n",
        "            for l in range(len(label)):\n",
        "                if label[l] == c:\n",
        "                    self.prior[c] += 1\n",
        "            self.prior[c] /= len(label)\n",
        "\n",
        "            print(\"Done class {}\".format(c))\n",
        "            #print(self.sigma[c])\n",
        "\n",
        "    def predict(self, sample):\n",
        "        prob = np.zeros(self.nb_class)\n",
        "\n",
        "        for c in range(self.nb_class):\n",
        "            # Compute score for each class and put in the prob list\n",
        "            #tmp = math.exp(-(1.0 / 2.0) * np.matmul(np.matmul((sample - self.mu[c]).transpose(), np.linalg.inv(self.sigma[c])), sample - self.mu[c])) * 1.0 / (math.pow((2.0 * math.pi), (self.nb_dim / 2.0)) * math.pow(np.linalg.norm(self.sigma[c]), (1.0 / 2.0)))\n",
        "            tmp = sp.stats.multivariate_normal(self.mu[c], self.sigma[c], allow_singular=True)\n",
        "            prob[c] = tmp.pdf(sample) * self.prior[c]\n",
        "\n",
        "            print(\"Done predict class {}\".format(c))\n",
        "\n",
        "        return np.argmax(prob)"
      ],
      "execution_count": 5,
      "outputs": []
    },
    {
      "cell_type": "code",
      "metadata": {
        "id": "Wp5kW40fBPJA",
        "colab_type": "code",
        "colab": {
          "base_uri": "https://localhost:8080/",
          "height": 51
        },
        "outputId": "a3d6a28b-8504-4fb5-9b66-93cd02fd1c51"
      },
      "source": [
        "import tensorflow as tf\n",
        "import matplotlib.pyplot as plt\n",
        "\n",
        "(x_train, y_train), (x_test, y_test) = tf.keras.datasets.mnist.load_data()\n",
        "\n",
        "# Normalization\n",
        "#x_train = x_train / 255.0\n",
        "#x_test = x_test / 255.0\n",
        "\n",
        "# Flatten\n",
        "x_train = x_train.reshape((60000, 28*28))\n",
        "x_test = x_test.reshape((10000, 28*28))\n",
        "\n",
        "# Reduce size of dataset\n",
        "x_train = np.resize(x_train, (600, 28*28))\n",
        "y_train = np.resize(y_train, (600,))\n",
        "\n",
        "print(x_train.shape, y_train.shape)\n",
        "print(x_test.shape, y_test.shape)"
      ],
      "execution_count": 8,
      "outputs": [
        {
          "output_type": "stream",
          "text": [
            "(600, 784) (600,)\n",
            "(10000, 784) (10000,)\n"
          ],
          "name": "stdout"
        }
      ]
    },
    {
      "cell_type": "code",
      "metadata": {
        "id": "zSeZlLPlCkdw",
        "colab_type": "code",
        "colab": {
          "base_uri": "https://localhost:8080/",
          "height": 187
        },
        "outputId": "e13c9bc7-c89d-4991-8721-6ca3e8fa20a9"
      },
      "source": [
        "nb_class = 10\n",
        "nb_dim = 28*28\n",
        "classifier = NaiveBayesClassifier(nb_class, nb_dim)\n",
        "\n",
        "classifier.train(x_train, y_train)"
      ],
      "execution_count": 3,
      "outputs": [
        {
          "output_type": "stream",
          "text": [
            "Done class 0\n",
            "Done class 1\n",
            "Done class 2\n",
            "Done class 3\n",
            "Done class 4\n",
            "Done class 5\n",
            "Done class 6\n",
            "Done class 7\n",
            "Done class 8\n",
            "Done class 9\n"
          ],
          "name": "stdout"
        }
      ]
    },
    {
      "cell_type": "code",
      "metadata": {
        "id": "arWAGX9FGeRY",
        "colab_type": "code",
        "colab": {
          "base_uri": "https://localhost:8080/",
          "height": 416
        },
        "outputId": "29a7b04e-4572-4d16-dee9-8cf43f8b9816"
      },
      "source": [
        "res = classifier.predict(x_test[4])\n",
        "print(res)\n",
        "\n",
        "x_test = x_test.reshape((10000, 28, 28))\n",
        "plt.figure(figsize = (3, 3))\n",
        "plt.imshow(x_test[4], interpolation='nearest')"
      ],
      "execution_count": 9,
      "outputs": [
        {
          "output_type": "stream",
          "text": [
            "Done predict class 0\n",
            "Done predict class 1\n",
            "Done predict class 2\n",
            "Done predict class 3\n",
            "Done predict class 4\n",
            "Done predict class 5\n",
            "Done predict class 6\n",
            "Done predict class 7\n",
            "Done predict class 8\n",
            "Done predict class 9\n",
            "0\n"
          ],
          "name": "stdout"
        },
        {
          "output_type": "execute_result",
          "data": {
            "text/plain": [
              "<matplotlib.image.AxesImage at 0x7fb8d89c8470>"
            ]
          },
          "metadata": {
            "tags": []
          },
          "execution_count": 9
        },
        {
          "output_type": "display_data",
          "data": {
            "image/png": "[encoded data removed]",
            "text/plain": [
              "<Figure size 216x216 with 1 Axes>"
            ]
          },
          "metadata": {
            "tags": [],
            "needs_background": "light"
          }
        }
      ]
    }
  ]
}